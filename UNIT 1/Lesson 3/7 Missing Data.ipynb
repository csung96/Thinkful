{
 "cells": [
  {
   "cell_type": "code",
   "execution_count": 1,
   "metadata": {},
   "outputs": [],
   "source": [
    "# cleaning can increase the amount of mising data\n",
    "# even missingness is random, it can cause difficulties for analysis\n",
    "# python implementations of basic statistical mathods like ANOVA t-tests and correlations will fail\n",
    "\n",
    "# one way to solve this problem is to drop any rows that contain missing values in our variable of interest\n",
    "# pandas package has the .dropna() dataframe method"
   ]
  },
  {
   "cell_type": "code",
   "execution_count": 2,
   "metadata": {},
   "outputs": [
    {
     "name": "stdout",
     "output_type": "stream",
     "text": [
      "    age gender  height  weight\n",
      "0  27.0      f    64.0   140.0\n",
      "1  50.0      f     NaN     NaN\n",
      "2  34.0      f    71.0   130.0\n",
      "3   NaN      m    66.0   110.0\n",
      "4   NaN      m    68.0   160.0\n",
      "5   NaN   None     NaN     NaN\n",
      "    age gender  height  weight\n",
      "0  27.0      f    64.0   140.0\n",
      "2  34.0      f    71.0   130.0\n",
      "    age gender  height  weight\n",
      "0  27.0      f    64.0   140.0\n",
      "1  50.0      f     NaN     NaN\n",
      "2  34.0      f    71.0   130.0\n",
      "3   NaN      m    66.0   110.0\n",
      "4   NaN      m    68.0   160.0\n",
      "    age gender  height  weight\n",
      "0  27.0      f    64.0   140.0\n",
      "1  50.0      f     NaN     NaN\n",
      "2  34.0      f    71.0   130.0\n",
      "3   NaN      m    66.0   110.0\n",
      "4   NaN      m    68.0   160.0\n",
      "    age gender  height  weight\n",
      "0  27.0      f    64.0   140.0\n",
      "2  34.0      f    71.0   130.0\n",
      "3   NaN      m    66.0   110.0\n",
      "4   NaN      m    68.0   160.0\n",
      "    age gender  height  weight\n",
      "0  27.0      f    64.0   140.0\n",
      "2  34.0      f    71.0   130.0\n",
      "3   NaN      m    66.0   110.0\n",
      "4   NaN      m    68.0   160.0\n"
     ]
    }
   ],
   "source": [
    "import pandas as pd\n",
    "\n",
    "# Sample data to play with and clean.\n",
    "data = {\n",
    "    'age': [27, 50, 34, None, None, None],\n",
    "    'gender': ['f', 'f', 'f', 'm', 'm', None],\n",
    "    'height' : [64, None, 71, 66, 68, None],\n",
    "    'weight' : [140, None, 130, 110, 160, None],\n",
    "}\n",
    "df = pd.DataFrame(data)\n",
    "\n",
    "# Full dataset.\n",
    "print(df)\n",
    "\n",
    "# Drop all rows that have any missing values in any column.\n",
    "print(df.dropna()) \n",
    "\n",
    "# Drop only rows where all values are missing.\n",
    "print(df.dropna(how='all'))\n",
    "\n",
    "# Drop only rows where more than two values are missing.\n",
    "print(df.dropna(thresh=2))\n",
    "\n",
    "# Drop all rows that have any missing values in the 'gender' or 'height' columns.\n",
    "print(df.dropna(subset=['gender','height']))\n",
    "\n",
    "# Your turn. Write code below to drop rows where both height and weight\n",
    "# are missing and print the result.\n",
    "\n",
    "\n",
    "print(df.dropna(subset=['gender'and'height']))\n"
   ]
  },
  {
   "cell_type": "code",
   "execution_count": 3,
   "metadata": {},
   "outputs": [],
   "source": [
    "# WHEN DOES MISSINGNESS MATTER?\n",
    "# sometimes dropping all rows with missing data is fine but someitmes it creates problems\n",
    "# missing data matter if we believe the missingnes swill cause\n",
    "# 1. loss of statistical power b/c so many rows have to be thrown out, making it harder to detect effets\n",
    "# 2. bias because certain values are morelikely to . be missing than others\n",
    "\n",
    "# To know when to worry about missing data and when to throw it out incomplete cases and proceed as planned, \n",
    "# see where missingness falls in following categories: \n",
    "\n",
    "# Missing COmpletely at Random (MCAR):\n",
    "# 1. a catastriohic flood washing away some of the servers and 20% of the data was lost\n",
    "# 2. Unless so much data is lost that samp sizes are now too small, it is fiar to throw out the missing values and proceed\n",
    "\n",
    "# Missing at Random (MAR): \n",
    "# 1. Women are more likely to skip a question about weight regardless of their actual weight\n",
    "# 2. b/c we can explain why the data is missing using data we have, we can proceed as long as we include the variable that explains the missingness in our analyses\n",
    "# 3. there is no way to know that data is MAR but soemtimes we can assume it is. \n",
    "#     if we find a variable in our dataset that seems to differentiate really well b/w missing and non-missing\n",
    "\n",
    "# Missing Not at Random (NMAR)\n",
    "# 1. LGBT individueals less likel to answer a survey Q about sexual orientation\n",
    "# 2. systematic meaningness: people who would answer in a certain way (LGBT vs. Heterosexual) are less likely to answer at all\n",
    "# 3. Stop, do not pass Go, do not collect $200. \n",
    "#    if we throw out MNAR data, we end up with biased sample and conclusions\n",
    "# 4. note that since by def we dont know what ppl would have aid for questions they dont answer, \n",
    "#    MNAR is an assumption based on looking at data and notcing what isnt there: \n",
    "#    Abnormally low counts of LGBT ppl, almost no men who say they are depressed, variables with missingness whem no one picks highest values\n",
    "\n",
    "\n",
    "\n",
    "\n",
    "\n"
   ]
  },
  {
   "cell_type": "code",
   "execution_count": 4,
   "metadata": {},
   "outputs": [],
   "source": [
    "# what do you do if you have MNAR data you cant drop, or if it is MCAR or MAR but dropping missing values leaves sample too small\n",
    "# IMPUTING DATA\n",
    "# in cases where we want to keep all the info fro, all rows, even incomplete ones, we can guess what missing dat would have been nad fill in that cell with our guess\n",
    "# this is called IMPUTATION\n",
    "\n",
    "# most straightforward involves replacing missing values with mode mean or median of the variable\n",
    "# this isnt perfect; keeps central tendency the same but reduces variance and correlations among variables"
   ]
  },
  {
   "cell_type": "code",
   "execution_count": 5,
   "metadata": {},
   "outputs": [
    {
     "name": "stdout",
     "output_type": "stream",
     "text": [
      "    age gender  height  weight\n",
      "0  27.0      f   64.00   140.0\n",
      "1  50.0      f   67.25   135.0\n",
      "2  34.0      f   71.00   130.0\n",
      "3  37.0      m   66.00   110.0\n",
      "4  37.0      m   68.00   160.0\n",
      "5  37.0   None   67.25   135.0\n",
      "    age gender  height  weight\n",
      "0  27.0      f    64.0   140.0\n",
      "1  50.0      f    68.0   160.0\n",
      "2  34.0      f    71.0   130.0\n",
      "3  34.0      m    66.0   110.0\n",
      "4  34.0      m    68.0   160.0\n",
      "5  34.0      f    68.0   160.0\n"
     ]
    }
   ],
   "source": [
    "import pandas as pd\n",
    "\n",
    "# Sample data to play with.\n",
    "data = {\n",
    "    'age': [27, 50, 34, None, None, None],\n",
    "    'gender': ['f', 'f', 'f', 'm', 'm', None],\n",
    "    'height' : [64, None, 71, 66, 68, None],\n",
    "    'weight' : [140, None, 130, 110, 160, None],\n",
    "}\n",
    "df = pd.DataFrame(data)\n",
    "\n",
    "# For each numeric column, replace the missing values with the mean for that column.\n",
    "df.fillna(df.mean(),inplace=True)\n",
    "print(df)\n",
    "\n",
    "# For each column, replace the missing values with the most common value for that\n",
    "# column. Useful for filling in missing categorical values.\n",
    "# As written, this command will fill in missing values for both numerical and\n",
    "# categorical columns.\n",
    "df = pd.DataFrame(data)\n",
    "df = df.apply(lambda x:x.fillna(x.value_counts().index[0]))\n",
    "print(df)\n",
    "\n",
    "# Your turn. Try replacing each value with the median, mode, or other statistic\n",
    "# of your choice.\n",
    "\n"
   ]
  },
  {
   "cell_type": "code",
   "execution_count": null,
   "metadata": {},
   "outputs": [],
   "source": []
  }
 ],
 "metadata": {
  "kernelspec": {
   "display_name": "Python 3",
   "language": "python",
   "name": "python3"
  },
  "language_info": {
   "codemirror_mode": {
    "name": "ipython",
    "version": 3
   },
   "file_extension": ".py",
   "mimetype": "text/x-python",
   "name": "python",
   "nbconvert_exporter": "python",
   "pygments_lexer": "ipython3",
   "version": "3.6.5"
  }
 },
 "nbformat": 4,
 "nbformat_minor": 2
}
