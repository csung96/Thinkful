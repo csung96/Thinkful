{
 "cells": [
  {
   "cell_type": "code",
   "execution_count": 1,
   "metadata": {},
   "outputs": [],
   "source": [
    "# FINDING DIRT\n",
    "# dirty if it contains irrelevant or misleading info. \n",
    "# finding dirt can be hard\n",
    "# ex: histogram of a variable wihth values b/w 0 and 7 may look perfectly normal and seem find unless you know that the variable in quesiton is only supposed to have values b/w 1 and 7"
   ]
  },
  {
   "cell_type": "code",
   "execution_count": 3,
   "metadata": {},
   "outputs": [],
   "source": [
    "# CLEANING DIRT\n",
    "# must clean before analysis\n",
    "# cleaning involves removing problematic values and replaceing them with other less problematic versions\n",
    "\n",
    "\n",
    "# REPLACE WITH MISSINGNESS INDICATOR (NONE IN PYTHON, NULL IN SQL)\n",
    "# ANOMALOUS VALUES\n",
    "# variable is supposed to range b/w 1 and 7 but you see a 99\n",
    "# a height in inches variable lists someone's height as 100\n",
    "# a write-in age variable includes entries such as \"old enough\" and '29999'\n",
    "# FAKE ANSWERS\n",
    "# person answers 'a' to every questions ('straightlining')\n",
    "# answers form a repeating pattern: \"1,2,3,4,1,2,3,4\"\n",
    "# plotting data can sometimes guide by showing what normal responses look like\n",
    "# time from start to finish of a tak is less than an established threshold (10, 30 sec) suggesting person did not follow the instructions\n",
    "# PLOTTING the response time dist can help to find a logical cutoff point\n",
    "\n"
   ]
  },
  {
   "cell_type": "code",
   "execution_count": null,
   "metadata": {},
   "outputs": [],
   "source": [
    "# MAP TO A VALID RESPONSE\n",
    "\n",
    "# ANOMALOUS VALUES\n",
    "# if a scale goes from 1 to 7 and one answer is 77, it may be acceptable to change the answer to 7\n",
    "# if you suspect the wrong units are being used (a variable asks for height in inches, someone fills in '6'), it may be ok to convert to correct units\n",
    "# EXTREME BUT PLAUSIBLE VALUES \n",
    "# a person in a random samp reports a height of 7ft and annual income of 20million\n",
    "# response rates for ads in one city are 3x as high as response rates in all other cities\n",
    "# one popular approach to extreme but plausible values is to replace the valid but extreme values with highest non-outlier value\n",
    "# this retains info while getting rid of the undesireable effects of an outlier\n",
    "# highest nonoutlier can be found in many ways\n",
    "# one way = 'winsorizing'\n",
    "# choose percentile such as 90% and assigns all values below the 5th percentile eq to the value at the 5th percentile and all the values above the 95th percentile to the value of the 95th percentile\n",
    "\n",
    "#REMOVE: \n",
    "# DUPLICATE ENTRIES\n",
    "# user submits a form twice\n",
    "# two data sources are combined and include some overlap\n",
    "\n",
    "# OTHER\n"
   ]
  }
 ],
 "metadata": {
  "kernelspec": {
   "display_name": "Python 3",
   "language": "python",
   "name": "python3"
  },
  "language_info": {
   "codemirror_mode": {
    "name": "ipython",
    "version": 3
   },
   "file_extension": ".py",
   "mimetype": "text/x-python",
   "name": "python",
   "nbconvert_exporter": "python",
   "pygments_lexer": "ipython3",
   "version": "3.6.5"
  }
 },
 "nbformat": 4,
 "nbformat_minor": 2
}
