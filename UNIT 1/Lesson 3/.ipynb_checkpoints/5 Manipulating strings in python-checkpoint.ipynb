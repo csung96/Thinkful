{
 "cells": [
  {
   "cell_type": "code",
   "execution_count": 1,
   "metadata": {},
   "outputs": [],
   "source": [
    "# eirty data often includes supposedly numberic values with random string-type info thrown in for fun\n",
    "# other times involves strings that contain losts of info that needs to be separated\n",
    "# need to manipulate strings\n",
    "\n",
    "# string manipulation in python can be done using built in string methods or with regular expressions via re package\n",
    "# regular expression: sequence of charac that defines a search patterh\n",
    "# these charac include all the typical letters, numbers and symbols on a keyboard, but also specialized charac such as '/d\" which rep any one digit or wildcard charac such as + which extracts repetitions of charac\n",
    "# ex: with the string '53 times harder than the lat 4 times', '\\d' would return '5' while '\\d+' would return 53\n",
    "# regex is coplext but powerful\n",
    "\n",
    "# start with string methods with some shallow dips into how to use regex in python\n",
    "# use lamba and .apply()"
   ]
  },
  {
   "cell_type": "code",
   "execution_count": 3,
   "metadata": {},
   "outputs": [
    {
     "name": "stdout",
     "output_type": "stream",
     "text": [
      "False\n",
      "False\n"
     ]
    }
   ],
   "source": [
    "# EXTRACTING DIFFERENT CATEGORIES OF CHARACTER FROM A STRING\n",
    "# .isdigit() method tests whether each character in a string is a digit. \n",
    "# it is one of the family of string methods including .isalpha(), .isnumeric(), .isspace(), .isalnum() that are very useful for extracting diff aspects of string\n",
    "\n",
    "\n",
    "import pandas as pd\n",
    "sample_string = 'take 5'\n",
    "print(sample_string.isdigit())\n",
    "\n",
    "a = 'I am 22 years old'\n",
    "print(a.isalpha())"
   ]
  },
  {
   "cell_type": "code",
   "execution_count": 5,
   "metadata": {},
   "outputs": [
    {
     "name": "stdout",
     "output_type": "stream",
     "text": [
      "0     True\n",
      "1     True\n",
      "2    False\n",
      "3     True\n",
      "4    False\n",
      "dtype: bool\n"
     ]
    }
   ],
   "source": [
    "# apply\n",
    "# when cleaining data you will be dealing with dataframes made up of variables containing strings rather than individual strings directly\n",
    "# but isdigit() and other methods described above are string methods, not data frame methods\n",
    "# how can you ue them with data frames?\n",
    "# pandas . apply() method steps in \n",
    "# .apply() : lets us specify a function and apply that function to each element in the dataframe or series were working with\n",
    "\n",
    "\n",
    "\n",
    "# create a series of dirty, annoying values\n",
    "money = pd.Series([400, 111, '$20', 57, 'Lots'])\n",
    "# Running `money.isdigit()` throws an error because .isdigit() is a string\n",
    "# attribute, _not_ a series attribute. Uncomment the line below to see.\n",
    "\n",
    " # print(money.isdigit())\n",
    "\n",
    "# Instead, let's define a new function that takes a string as an argument\n",
    "# and returns True if the string is all digits, otherwise False.\n",
    "\n",
    "def is_a_string(x):\n",
    "    # First make sure we're operating on a string, then use our string method.\n",
    "    return str(x).isdigit()\n",
    "\n",
    "# Now let's apply our custom function to each element in our series.\n",
    "print(money.apply(is_a_string))"
   ]
  },
  {
   "cell_type": "code",
   "execution_count": 6,
   "metadata": {},
   "outputs": [
    {
     "name": "stdout",
     "output_type": "stream",
     "text": [
      "0     True\n",
      "1     True\n",
      "2    False\n",
      "3     True\n",
      "4    False\n",
      "dtype: bool\n"
     ]
    }
   ],
   "source": [
    "# LAMBDA FUNCTIONS\n",
    "# frequently well want to define the new function on the fly rather than using def to create a named function like the above\n",
    "# this is where lambda functions come in\n",
    "\n",
    "# Lambda functions; small, temporary, unnamed functions created with lambda keyword\n",
    "\n",
    "# Dirty List\n",
    "money = pd.Series([400, 111, '$20', 57, 'Lots'])\n",
    "\n",
    "# Here's a lambda function that mirrors the is_a_digit function above.\n",
    "# Read this print statement carefully and compare to the previous one.\n",
    "print(money.apply(lambda x: str(x).isdigit()))"
   ]
  },
  {
   "cell_type": "code",
   "execution_count": 7,
   "metadata": {},
   "outputs": [],
   "source": [
    "# the key here is this part - lambda x: str(x).isdigit())\n",
    "# start with lambda keyword, then follow with the param for your function\n",
    "# here we use just x, but we could have multiple parameters separated by a comma like x, y if we wanted\n",
    "# next comes a colon: followed by expression that would normally be in our function body \n",
    "# here we omit the return keyword"
   ]
  },
  {
   "cell_type": "code",
   "execution_count": 8,
   "metadata": {},
   "outputs": [
    {
     "name": "stdout",
     "output_type": "stream",
     "text": [
      "Filtering the whole series:\n",
      "[400, 111, 57]\n",
      "\n",
      "Applying filter() to each value in the series:\n",
      "0    400\n",
      "1    111\n",
      "2     20\n",
      "3     57\n",
      "4       \n",
      "dtype: object\n"
     ]
    }
   ],
   "source": [
    "#FILTER\n",
    "# can use built in filter() function to extract parts of our strings\n",
    "# ex: we can use it to extract just the difit info\n",
    "\n",
    "# the filter() function expects two arguments\n",
    "# the first argument is a function that takes a single input and returns a boolean value and second argument is an iterable where each of elements of the iterable will be fed into the first argument and processed into a boolean\n",
    "# the filter() function returns an iterator that picks out the instances of the iterable where the corresponding boolean value is true\n",
    "\n",
    "# in our ex we can use filter() on our series to filter out all elem that arent nice and clean\n",
    "# or we can apply filter to each element of our series to extract the numeric parts\n",
    "\n",
    "\n",
    "# We're using list() on the result because filter() returns an iterator.\n",
    "\n",
    "print('Filtering the whole series:')\n",
    "print(list(filter(lambda x: str(x).isdigit(), money)))\n",
    "\n",
    "print('\\nApplying filter() to each value in the series:')\n",
    "print(money.apply(lambda x: ''.join(list(filter(str.isdigit, str(x))))))"
   ]
  },
  {
   "cell_type": "code",
   "execution_count": 9,
   "metadata": {},
   "outputs": [],
   "source": [
    "# second approach where we apply filter() to each element of our series is likely more useful for us b/c it leabes us with a series instad of a list"
   ]
  },
  {
   "cell_type": "code",
   "execution_count": 10,
   "metadata": {},
   "outputs": [
    {
     "name": "stdout",
     "output_type": "stream",
     "text": [
      "0     MollyMalone\n",
      "1    JeffreyJones\n",
      "2      DeadParrot\n",
      "Name: 0, dtype: object \n",
      "\n",
      "0     molmal@gmail.com\n",
      "1    jefjo@hotmail.com\n",
      "2     fjords@gmail.com\n",
      "Name: 1, dtype: object\n"
     ]
    }
   ],
   "source": [
    "# SPLITTING STRINGS APART\n",
    "# we want to eep all info in a string but divide it up into several pices\n",
    "# the .split() string mehtod takes one arg, the character or substring to split on, and returns a list of the pieces of string its called on, using separater as a delimiter for each piece\n",
    "# with pandas, Series.str.split() used directly on series objects w/o needing .apply()\n",
    "\n",
    "\n",
    "# Create a series of dirty, annoying strings.\n",
    "words = pd.Series([\n",
    "    'MollyMalone$molmal@gmail.com',\n",
    "    'JeffreyJones$jefjo@hotmail.com',\n",
    "    'DeadParrot$fjords@gmail.com'\n",
    "])\n",
    "\n",
    "# Split on '$'. We'll use the Pandas split method.\n",
    "word_split = words.str.split('$', expand=True)\n",
    "names = word_split[0]\n",
    "emails = word_split[1]\n",
    "print(names, '\\n')\n",
    "print(emails)"
   ]
  },
  {
   "cell_type": "code",
   "execution_count": 11,
   "metadata": {},
   "outputs": [
    {
     "name": "stdout",
     "output_type": "stream",
     "text": [
      "  0       1      2\n",
      "0      olly  alone\n",
      "1    effrey   ones\n",
      "2       ead  arrot\n"
     ]
    }
   ],
   "source": [
    "# can also do powerful split using reg exp instead of strings for the delimiter\n",
    "# ex: could use all capital letters as split indicators\n",
    "# below: use the reg exp '[A-Z]' ti match all capital letters\n",
    "\n",
    "\n",
    "# Splitting on capital letters.\n",
    "# Just because we can doesn't mean we should:\n",
    "print(names.str.split('[A-Z]', expand=True))"
   ]
  },
  {
   "cell_type": "code",
   "execution_count": 12,
   "metadata": {},
   "outputs": [
    {
     "name": "stdout",
     "output_type": "stream",
     "text": [
      "0      Molly\n",
      "1    Jeffrey\n",
      "2       Dead\n",
      "Name: 0, dtype: object \n",
      "\n",
      "0    Malone\n",
      "1     Jones\n",
      "2    Parrot\n",
      "Name: 0, dtype: object\n"
     ]
    }
   ],
   "source": [
    "# ex is problematic\n",
    "# better method of dividing on capital letters, which retains the character used as separator is to use the .findall() method from re package\n",
    "# the reg exp '\\[A-Z][a-z]*' says to find each instance where an uppercase letter is followed by lowercase letters and returns each instance as an item in a list\n",
    "\n",
    "import re\n",
    "# We expect the first name to follow the first capital letter.\n",
    "firstname = names.apply(lambda x: re.findall('[A-Z][a-z]*', x)[0])\n",
    "\n",
    "# We expect the last name to follow the second capital letter.\n",
    "lastname = names.apply(lambda x: re.findall('[A-Z][a-z]*', x)[1])\n",
    "\n",
    "print(firstname, '\\n')\n",
    "print(lastname)"
   ]
  },
  {
   "cell_type": "code",
   "execution_count": 13,
   "metadata": {},
   "outputs": [],
   "source": [
    "# want to get by w/o using reg expressions"
   ]
  },
  {
   "cell_type": "code",
   "execution_count": 15,
   "metadata": {},
   "outputs": [
    {
     "name": "stdout",
     "output_type": "stream",
     "text": [
      "0     molmal at gmail.com\n",
      "1    jefjo at hotmail.com\n",
      "2     fjords at gmail.com\n",
      "Name: 1, dtype: object \n",
      "\n",
      "0     molmal@gmail\n",
      "1    jefjo@hotmail\n",
      "2     fjords@gmail\n",
      "Name: 1, dtype: object\n"
     ]
    }
   ],
   "source": [
    "# CHANGING THE CONTENT OF STRINGS\n",
    "\n",
    "# REPLACE\n",
    "# we can replace specific characters or combinations of characters with a new string or with nothing at all\n",
    "# pandas gives us Series.str.replace()\n",
    "\n",
    "\n",
    "print(emails.str.replace('@', ' at '),'\\n')\n",
    "\n",
    "print(emails.str.replace('.com', ''))"
   ]
  },
  {
   "cell_type": "code",
   "execution_count": 16,
   "metadata": {},
   "outputs": [
    {
     "name": "stdout",
     "output_type": "stream",
     "text": [
      "0     mollymalone\n",
      "1    jeffreyjones\n",
      "2      deadparrot\n",
      "Name: 0, dtype: object \n",
      "\n",
      "0     MOLLYMALONE\n",
      "1    JEFFREYJONES\n",
      "2      DEADPARROT\n",
      "Name: 0, dtype: object \n",
      "\n",
      "0     Mollymalone\n",
      "1    Jeffreyjones\n",
      "2      Deadparrot\n",
      "Name: 0, dtype: object\n"
     ]
    }
   ],
   "source": [
    "# CHANGING CASE\n",
    "# if capitalization varies inconsistently in a variable, it may be useful to elimnate the inconsistency by casting each string to a pecific case\n",
    "\n",
    "print(names.str.lower(), '\\n')\n",
    "print(names.str.upper(), '\\n')\n",
    "print(names.str.capitalize())"
   ]
  },
  {
   "cell_type": "code",
   "execution_count": 17,
   "metadata": {},
   "outputs": [
    {
     "data": {
      "text/plain": [
       "False"
      ]
     },
     "execution_count": 17,
     "metadata": {},
     "output_type": "execute_result"
    }
   ],
   "source": [
    "# STRIPPING WHITESPACE\n",
    "# common dirty data is irregularly applied whitespace at begining or end of a string\n",
    "\n",
    "\n",
    "# example: \n",
    "\"Hello, world\" == \"Hello, world \""
   ]
  },
  {
   "cell_type": "code",
   "execution_count": 20,
   "metadata": {},
   "outputs": [
    {
     "name": "stdout",
     "output_type": "stream",
     "text": [
      "   What, on earth, is going on here?      \n",
      "What, on earth, is going on here?\n"
     ]
    }
   ],
   "source": [
    "# best way to deal with this is to remove leading and trailing whitespace with the .strip() string method\n",
    "# we can strip a single string\n",
    "\n",
    "spacy = '   What, on earth, is going on here?      '\n",
    "print(spacy)\n",
    "print(spacy.strip())\n"
   ]
  },
  {
   "cell_type": "code",
   "execution_count": 21,
   "metadata": {},
   "outputs": [
    {
     "name": "stdout",
     "output_type": "stream",
     "text": [
      "False\n",
      "True\n"
     ]
    }
   ],
   "source": [
    "# we can strip each string in the series\n",
    "\n",
    "# series of strings with annoying whitepace\n",
    "words = pd.Series([' duck', 'duck ', ' duck ', 'goose'])\n",
    "print(words[0] == words[1])\n",
    "\n",
    "stripped = words.str.strip()\n",
    "print(stripped[0] == stripped[1])"
   ]
  },
  {
   "cell_type": "code",
   "execution_count": null,
   "metadata": {},
   "outputs": [],
   "source": []
  }
 ],
 "metadata": {
  "kernelspec": {
   "display_name": "Python 3",
   "language": "python",
   "name": "python3"
  },
  "language_info": {
   "codemirror_mode": {
    "name": "ipython",
    "version": 3
   },
   "file_extension": ".py",
   "mimetype": "text/x-python",
   "name": "python",
   "nbconvert_exporter": "python",
   "pygments_lexer": "ipython3",
   "version": "3.6.5"
  }
 },
 "nbformat": 4,
 "nbformat_minor": 2
}
