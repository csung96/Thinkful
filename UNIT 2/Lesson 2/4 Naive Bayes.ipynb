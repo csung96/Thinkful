{
 "cells": [
  {
   "cell_type": "markdown",
   "metadata": {},
   "source": [
    "NAIVE BAYES:\n",
    "* Modeling and prediction based around Bayes Rule theorem.\n",
    "\n",
    "BAYES: \n",
    "* Bayes is the core of the model\n",
    "    * Covers the probabilistic relationship b/w multiple variables, and specifically allows us to define one conditional in terms of the underlying prob and the inverse condition. \n",
    "     $$P(y|x) = P(y)P(x|y)/P(x)$$\n",
    "    * This is read as \"the probability of y given x = the probability of y times the probability of x given y divided by the probability of x\"\n",
    "    * The theorem can be extended to when x is a vector (containing the multiple x variables used as inputs for the model): \n",
    "    $$P(y|x_1,...,x_n) = P(y)P(x_1,...,x_n|y)/P(x_1,...,x_n)$$\n",
    "    * This explains rel of an outcome to a vector of conditions (rather than to a single event)\n",
    "    * Can be read as: prob of y (the categorical outcome we're interested in) given a set of obs is equal to the probability of that set of obs given y divided by the prob of that set of outcomes"
   ]
  },
  {
   "cell_type": "markdown",
   "metadata": {},
   "source": [
    "NAIVE: \n",
    "* Naive bayes = assumption that any pair of variables in the conditional vector (x variables) are independent from each other. \n",
    "* The independence is important and changes the vetorized Bayes Rule. \n",
    "* It allows us to break that large $P(x_1,...,x_n|y)$ into the product of each individual condition. \n",
    "* Look like this: \n",
    "$$P(y|x_1,...,x_n) = P(y)*P(x_1|y)*...*P(x_n|y)/P(x_1,...,x_n)$$\n",
    "* Simplify further b/c for any obs we are attempting to predict, the x vector will be constant:\n",
    "$$P(y|x_1,...,x_n) \\approx P(y)*P(x_1|y)*...*P(x_n|y)$$\n",
    "* So \n",
    "$$\\hat{y} = argmax_y(P(y)\\prod_{i=1}^nP(x_i|y))$$\n",
    "* This states that our estimator of y is the max over y of the $P(y)*\\prod_{i=1}^nP(x_i|y)$.\n",
    "\n",
    "\n",
    "* This is basis for naive bayes as a model\n",
    "* Naive Bayes returns the y values that maximizes the following argument. \n",
    "* This means it returns a single value, or category\n",
    "* Our estimate is the y that maximizes the arg b/c--> Naive Bayes is used as a classifier\n",
    "    * we are interested in which y value is most likely to have given the observed set of x variables based on their Bayesian probabilities. \n"
   ]
  },
  {
   "cell_type": "markdown",
   "metadata": {},
   "source": [
    "* The independence b/w each pair is importatnt!\n",
    "* Columns of df are usually not independent of each other. \n",
    "\n",
    "* BUT Naive Bayes is still used in the real world. \n",
    "    * Simple\n",
    "    * Easy to understand how it operates and what it is doing\n",
    "    * Incredibly fast"
   ]
  },
  {
   "cell_type": "code",
   "execution_count": null,
   "metadata": {},
   "outputs": [],
   "source": []
  }
 ],
 "metadata": {
  "kernelspec": {
   "display_name": "Python 3",
   "language": "python",
   "name": "python3"
  },
  "language_info": {
   "codemirror_mode": {
    "name": "ipython",
    "version": 3
   },
   "file_extension": ".py",
   "mimetype": "text/x-python",
   "name": "python",
   "nbconvert_exporter": "python",
   "pygments_lexer": "ipython3",
   "version": "3.6.5"
  }
 },
 "nbformat": 4,
 "nbformat_minor": 2
}
