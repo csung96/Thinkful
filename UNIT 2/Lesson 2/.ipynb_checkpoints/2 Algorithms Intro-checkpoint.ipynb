{
 "cells": [
  {
   "cell_type": "markdown",
   "metadata": {},
   "source": [
    "We have to give python a specific set of instructions to generate the model we want or find the best solution as we define it--> Algorithm\n",
    "\n",
    "    * Cant just tell python \"model my data please\"\n",
    "    \n",
    "\n",
    "WHAT IS AN ALGORITHM?\n",
    "* Algorithms are everywhere in data science\n",
    "* How we sort lists; how we run tests; how we build our models\n",
    "\n",
    "\n",
    "* Algorithms: set of instuctions for a computer\n",
    "    * Non-computing examples: set of driving directions, recipe\n",
    "* Alg are how we get to computers to combine simple operations like basic maths or assigning values to variables into behacior capable of solving complex tasks (like browse internet or predict future)\n",
    "\n",
    "\n",
    "* There are many ways to write an alg that can give same result.\n",
    "* one criteria = efficiency"
   ]
  },
  {
   "cell_type": "markdown",
   "metadata": {},
   "source": [
    "STEPS\n",
    "* How algorithms function--> think about steps (instructions)\n",
    "* Things computer has to do when running your code"
   ]
  },
  {
   "cell_type": "code",
   "execution_count": 2,
   "metadata": {},
   "outputs": [
    {
     "data": {
      "text/plain": [
       "False"
      ]
     },
     "execution_count": 2,
     "metadata": {},
     "output_type": "execute_result"
    }
   ],
   "source": [
    "5 == 4"
   ]
  },
  {
   "cell_type": "markdown",
   "metadata": {},
   "source": [
    "Ex of n equality comparision of 5 to 4--> takes the comp one step to check\n",
    "\n",
    "\n",
    "* Computers can do many things in a step: \n",
    "    * Assign values to a variable\n",
    "    * Make a comparison b/w two numbers\n",
    "    * Change a variable's value\n",
    "    * Look up the value of a list element at a specific index\n",
    "* If its an active task for the computer, its probaly a step\n",
    "* Breaking down code into basic steps is an imp exercise in alg design b/c it allows us to see how efficient our code is and make sure its as efficient as possible. \n",
    "* Not all one line of code is a single step\n",
    "* Example: "
   ]
  },
  {
   "cell_type": "code",
   "execution_count": 3,
   "metadata": {},
   "outputs": [
    {
     "name": "stdout",
     "output_type": "stream",
     "text": [
      "False\n",
      "False\n",
      "False\n",
      "False\n",
      "True\n"
     ]
    }
   ],
   "source": [
    "numbers = [1, 2, 3, 4, 5]\n",
    "\n",
    "for i in numbers: \n",
    "    print(i>4)"
   ]
  },
  {
   "cell_type": "markdown",
   "metadata": {},
   "source": [
    "Above is a loop that will run multiple times. The code inside the loops represents a step that happens for each element of the list numbers since the comparison against 4 happens for each element. "
   ]
  },
  {
   "cell_type": "markdown",
   "metadata": {},
   "source": [
    "ALGORITHMIC EFFICIENCY AND COMPLEXITY:\n",
    "    \n",
    "* The comparative FOR loop scales linearly and is said to have linear complexity. Every additional element in the dataset (numbers) adds in additional steps to the algorithm. \n",
    "* But lets say we had more complex loop: \n"
   ]
  },
  {
   "cell_type": "code",
   "execution_count": 4,
   "metadata": {},
   "outputs": [
    {
     "name": "stdout",
     "output_type": "stream",
     "text": [
      "False\n",
      "False\n",
      "False\n",
      "False\n",
      "False\n",
      "True\n",
      "False\n",
      "False\n",
      "False\n",
      "False\n",
      "True\n",
      "True\n",
      "False\n",
      "False\n",
      "False\n",
      "True\n",
      "True\n",
      "True\n",
      "False\n",
      "False\n",
      "True\n",
      "True\n",
      "True\n",
      "True\n",
      "False\n"
     ]
    }
   ],
   "source": [
    "numbers = [1, 2, 3, 4, 5]\n",
    "for i in numbers: \n",
    "    for j in numbers: \n",
    "        print(i>j)"
   ]
  },
  {
   "cell_type": "markdown",
   "metadata": {},
   "source": [
    "This algorithm is not scaled linearly. If we have one element in numbers, the print statement runs once. but if we have two elements, it runs four times. if we have 3 elements, it runs nine times. \n",
    "\n",
    "* It sclaes according to the swuare of the length of numbers. \n",
    "* This algorithm has quadratic complexity"
   ]
  },
  {
   "cell_type": "markdown",
   "metadata": {},
   "source": [
    "BIG O NOTATION:\n",
    "* The way to describe this scaling rate. \n",
    "* For each particular algorithm you can use big O notation to describe a limiting functional form. \n",
    "* As the numb of elements in alg's input grows, this notation shows the lower bound of performance\n",
    "* Something that is O(n) will be at worst n steps. \n",
    "* O(n^2) is at worst n^2 steps. \n",
    "* For something that is O(n), your alg will run in n steps or less\n",
    "\n",
    "\n",
    "Recall our first alg above with linear complexity. \n",
    "* It is described as O(n), where n is the length of the input list. * The second alg,the one with nested FOR loops and quadratic complexity, is O(n^2) where, again, n is length of the input list.\n",
    "\n",
    "When thinking about big O, we only care about the things that grow most quickly as the dataset scales. \n",
    "* EX: look at the line y=2 "
   ]
  },
  {
   "cell_type": "code",
   "execution_count": 5,
   "metadata": {},
   "outputs": [
    {
     "name": "stdout",
     "output_type": "stream",
     "text": [
      "False\n",
      "False\n",
      "True\n",
      "True\n",
      "True\n"
     ]
    }
   ],
   "source": [
    "y = 2\n",
    "numbers = [1, 2, 3, 4, 5]\n",
    "for i in numbers: \n",
    "    print (i>y)"
   ]
  },
  {
   "cell_type": "markdown",
   "metadata": {},
   "source": [
    "The line exists outside of the loop and will always be executed exactly once. The number of steps it rep doesnt depend on how many items are in n. It is constant. Even if the steps inside the loop do scale with the siae of n. \n",
    "\n",
    "The key is that when we use big ) notation to refer to an alg's complexity, we're talking about how efficiently the alg scales with additional data. For some datasets we can be ok with relatively inefficient alginefficient alg but in practice efficiency often matter b/c it sets an upper bound on the size of the dataset you can reasonably work with. "
   ]
  }
 ],
 "metadata": {
  "kernelspec": {
   "display_name": "Python 3",
   "language": "python",
   "name": "python3"
  },
  "language_info": {
   "codemirror_mode": {
    "name": "ipython",
    "version": 3
   },
   "file_extension": ".py",
   "mimetype": "text/x-python",
   "name": "python",
   "nbconvert_exporter": "python",
   "pygments_lexer": "ipython3",
   "version": "3.6.5"
  }
 },
 "nbformat": 4,
 "nbformat_minor": 2
}
