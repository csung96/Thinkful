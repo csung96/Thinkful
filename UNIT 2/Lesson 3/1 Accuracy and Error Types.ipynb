{
 "cells": [
  {
   "cell_type": "code",
   "execution_count": 1,
   "metadata": {},
   "outputs": [],
   "source": [
    "%matplotlib inline\n",
    "import numpy as np\n",
    "import pandas as pd\n",
    "import scipy\n",
    "import sklearn\n",
    "import matplotlib.pyplot as plt\n",
    "import seaborn as sns"
   ]
  },
  {
   "cell_type": "markdown",
   "metadata": {},
   "source": [
    "Reload our Niave Bayes Classifier from 2.2\n",
    "* Reload the naive bayes classifier from last lesson"
   ]
  },
  {
   "cell_type": "code",
   "execution_count": 2,
   "metadata": {},
   "outputs": [],
   "source": [
    "# Grab and process the raw data.\n",
    "data_path = (\"https://raw.githubusercontent.com/Thinkful-Ed/data-201-resources/\"\n",
    "             \"master/sms_spam_collection/SMSSpamCollection\"\n",
    "            )\n",
    "sms_raw = pd.read_csv(data_path, delimiter= '\\t', header=None)\n",
    "sms_raw.columns = ['spam', 'message']\n",
    "\n",
    "# Enumerate our spammy keywords.\n",
    "keywords = ['click', 'offer', 'winner', 'buy', 'free', 'cash', 'urgent']\n",
    "\n",
    "for key in keywords:\n",
    "    sms_raw[str(key)] = sms_raw.message.str.contains(\n",
    "        ' ' + str(key) + ' ',\n",
    "        case=False\n",
    ")\n",
    "\n",
    "sms_raw['allcaps'] = sms_raw.message.str.isupper()\n",
    "sms_raw['spam'] = (sms_raw['spam'] == 'spam')\n",
    "data = sms_raw[keywords + ['allcaps']]\n",
    "target = sms_raw['spam']\n",
    "\n",
    "from sklearn.naive_bayes import BernoulliNB\n",
    "bnb = BernoulliNB()\n",
    "y_pred = bnb.fit(data, target).predict(data)"
   ]
  },
  {
   "cell_type": "markdown",
   "metadata": {},
   "source": [
    "### Success Rate\n",
    "We now have the model and returned predictions\n",
    "\n",
    "First thing to note is what data is directly comparable for model evaluation: target and y_pred variables. \n",
    "* Target = outcomes (spam or ham)\n",
    "* y_pred = predicted outcomes from our classifier (bernoulli)\n",
    "* both are ordered arrays with results from each row of df\n",
    "* when the two agree--> model was able to successfully predict whether a given message was spam or not (ham). \n",
    "* when the two disagree--> model was incorrect\n",
    "\n",
    "Most basic measure of success = how often our model was correct\n",
    "* this is called ACCURACY\n",
    "* translated from count to a rate or percentage"
   ]
  },
  {
   "cell_type": "markdown",
   "metadata": {},
   "source": [
    "You should be getting 89.16% off of 4968 correctly classified messages and 604 incorrectly classified."
   ]
  },
  {
   "cell_type": "markdown",
   "metadata": {},
   "source": [
    "Success rate is popular way to evaluate model--> but usually not sufficient: \n",
    "    1. not all errors are created equal. \n",
    "    2. understanding how your model is failing can be key to improving it"
   ]
  },
  {
   "cell_type": "markdown",
   "metadata": {},
   "source": [
    "### Confusion Matrix\n",
    "\n",
    "Next level of analysis of your classifer --> Confusion Matrix\n",
    "* matrix that shows count of each possible permutaiton of target and prediction\n",
    "* EX: show the counts for when a message was ham and we predicted ham, when message was ham and we predicted spam, when a message was spam and we predicted ham, and when a message was spam and we predicted spam. "
   ]
  },
  {
   "cell_type": "code",
   "execution_count": 3,
   "metadata": {},
   "outputs": [
    {
     "data": {
      "text/plain": [
       "array([[4770,   55],\n",
       "       [ 549,  198]])"
      ]
     },
     "execution_count": 3,
     "metadata": {},
     "output_type": "execute_result"
    }
   ],
   "source": [
    "from sklearn.metrics import confusion_matrix\n",
    "confusion_matrix(target, y_pred)"
   ]
  },
  {
   "cell_type": "markdown",
   "metadata": {},
   "source": [
    "The columns are predictions and the rows are actual\n",
    "* marjority of our error is coming from times where we failed to identify a spam message. \n",
    "* 549 out or 604 errors are failing to identify spam. \n",
    "* need to get better at identifying spam message\n",
    "\n",
    "\n",
    "Lets assume our goal is to identify spam (rather than ham)\n",
    "* when we talk about errors in binary classifier, we're referring to two kinds of errors. \n",
    "* False Positive: when we identify something as spam that is not\n",
    "    * we had 55 of these\n",
    "    * Type 1 error / false alarm\n",
    "* False Negative: when we mistakenly identify something as not spam when it is. \n",
    "    * we had 549 of these. \n",
    "    * Type 2 error / miss\n",
    "    \n",
    "\n",
    "Sensitivity vs. Specificity\n",
    "* sensitivity: percentage of positives correctly identified (198/47 or 27%)\n",
    "    * shows how good we are at catching positives, or how sensitive our model is to identifying positives\n",
    "* specificity: the percentage of negatives correctly identified (4770/4825 or 99%)"
   ]
  },
  {
   "cell_type": "code",
   "execution_count": null,
   "metadata": {},
   "outputs": [],
   "source": []
  }
 ],
 "metadata": {
  "kernelspec": {
   "display_name": "Python 3",
   "language": "python",
   "name": "python3"
  },
  "language_info": {
   "codemirror_mode": {
    "name": "ipython",
    "version": 3
   },
   "file_extension": ".py",
   "mimetype": "text/x-python",
   "name": "python",
   "nbconvert_exporter": "python",
   "pygments_lexer": "ipython3",
   "version": "3.6.5"
  }
 },
 "nbformat": 4,
 "nbformat_minor": 2
}
